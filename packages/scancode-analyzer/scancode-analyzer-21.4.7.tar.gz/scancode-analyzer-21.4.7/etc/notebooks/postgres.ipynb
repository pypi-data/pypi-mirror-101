{
 "cells": [
  {
   "cell_type": "markdown",
   "metadata": {},
   "source": [
    "# `postgres.py`"
   ]
  },
  {
   "cell_type": "code",
   "execution_count": 1,
   "metadata": {},
   "outputs": [],
   "source": [
    "import sys\n",
    "sys.path.append('/home/ayan/Desktop/nexB/gsoc20/scancode-results-analyzer/src')"
   ]
  },
  {
   "cell_type": "markdown",
   "metadata": {},
   "source": [
    "## Import Class `PostgresFetch` and initialize Object"
   ]
  },
  {
   "cell_type": "code",
   "execution_count": 2,
   "metadata": {},
   "outputs": [],
   "source": [
    "from results_analyze.postgres import PostgresFetch\n",
    "post_ayan = PostgresFetch()"
   ]
  },
  {
   "cell_type": "markdown",
   "metadata": {},
   "source": [
    "## Formats Query from Postgres Database `PostgresFetch.format_query`"
   ]
  },
  {
   "cell_type": "code",
   "execution_count": 3,
   "metadata": {
    "collapsed": false,
    "jupyter": {
     "outputs_hidden": false
    },
    "pycharm": {
     "name": "#%%\n"
    }
   },
   "outputs": [
    {
     "data": {
      "text/plain": [
       "\"SELECT path, content FROM clearcode_cditem WHERE path like '%/scancode/%'OFFSET 0 ROWS FETCH FIRST 10 ROW ONLY;\""
      ]
     },
     "execution_count": 3,
     "metadata": {},
     "output_type": "execute_result"
    }
   ],
   "source": [
    "post_ayan.format_query(num_rows=10)"
   ]
  },
  {
   "cell_type": "markdown",
   "metadata": {},
   "source": [
    "## Fetch Data from Postgres Database `PostgresFetch.fetch_data`"
   ]
  },
  {
   "cell_type": "code",
   "execution_count": 4,
   "metadata": {},
   "outputs": [
    {
     "data": {
      "text/plain": [
       "[('git/github/zzarcon/video-snapshot/revision/b56386f225a2d082b1e56a0f24cfda595798c654/tool/scancode/3.2.2.json',\n",
       "  <memory at 0x7f2df4766588>),\n",
       " ('pypi/pypi/-/ccxt/revision/1.28.76/tool/scancode/3.2.2.json',\n",
       "  <memory at 0x7f2df4766648>),\n",
       " ('composer/packagist/motor-cms/motor-core/revision/0.9.1/tool/scancode/3.2.2.json',\n",
       "  <memory at 0x7f2df4766708>),\n",
       " ('composer/packagist/lucatume/wp-browser/revision/2.5.7/tool/scancode/3.2.2.json',\n",
       "  <memory at 0x7f2df47667c8>),\n",
       " ('npm/npmjs/-/aws-sdk/revision/2.687.0/tool/scancode/3.2.2.json',\n",
       "  <memory at 0x7f2df4766888>),\n",
       " ('npm/npmjs/@types/babel__core/revision/7.1.8/tool/scancode/3.2.2.json',\n",
       "  <memory at 0x7f2df4766948>),\n",
       " ('composer/packagist/topshelfcraft/wordsmith/revision/3.1.0/tool/scancode/3.2.2.json',\n",
       "  <memory at 0x7f2df4766a08>),\n",
       " ('pypi/pypi/-/youtube_dl/revision/2014.01.22.4/tool/scancode/3.2.2.json',\n",
       "  <memory at 0x7f2df4766ac8>),\n",
       " ('composer/packagist/qingbing/php-file-cache/revision/1.0.1/tool/scancode/3.2.2.json',\n",
       "  <memory at 0x7f2df4766b88>),\n",
       " ('git/github/fnando/browser/revision/9ada0e23745b82eef15035fc86fe560f826e0018/tool/scancode/3.2.2.json',\n",
       "  <memory at 0x7f2df4766c48>)]"
      ]
     },
     "execution_count": 4,
     "metadata": {},
     "output_type": "execute_result"
    }
   ],
   "source": [
    "post_ayan.fetch_data(10)"
   ]
  }
 ],
 "metadata": {
  "kernelspec": {
   "display_name": "Python 3",
   "language": "python",
   "name": "python3"
  },
  "language_info": {
   "codemirror_mode": {
    "name": "ipython",
    "version": 3
   },
   "file_extension": ".py",
   "mimetype": "text/x-python",
   "name": "python",
   "nbconvert_exporter": "python",
   "pygments_lexer": "ipython3",
   "version": "3.6.10"
  }
 },
 "nbformat": 4,
 "nbformat_minor": 4
}
