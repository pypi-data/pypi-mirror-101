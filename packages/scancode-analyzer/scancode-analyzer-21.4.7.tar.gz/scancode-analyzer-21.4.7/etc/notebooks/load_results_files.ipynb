{
 "cells": [
  {
   "cell_type": "markdown",
   "metadata": {},
   "source": [
    "[![Colab](https://colab.research.google.com/assets/colab-badge.svg)](https://colab.research.google.com/github/AyanSinhaMahapatra/scancode-results-analyzer/blob/master/src/notebooks/load_results_files.ipynb)"
   ]
  },
  {
   "cell_type": "markdown",
   "metadata": {},
   "source": [
    "## The Following 6 Cells are Only to be run in Google Colab \n",
    "\n",
    "[Link to Installing Conda in Colab Docs, which is used below](https://towardsdatascience.com/conda-google-colab-75f7c867a522)"
   ]
  },
  {
   "cell_type": "code",
   "execution_count": null,
   "metadata": {},
   "outputs": [],
   "source": [
    "%env PYTHONPATH="
   ]
  },
  {
   "cell_type": "code",
   "execution_count": null,
   "metadata": {},
   "outputs": [],
   "source": [
    "%%bash\n",
    "\n",
    "MINICONDA_INSTALLER_SCRIPT=Miniconda3-4.5.4-Linux-x86_64.sh\n",
    "MINICONDA_PREFIX=/usr/local\n",
    "wget https://repo.continuum.io/miniconda/$MINICONDA_INSTALLER_SCRIPT\n",
    "chmod +x $MINICONDA_INSTALLER_SCRIPT\n",
    "./$MINICONDA_INSTALLER_SCRIPT -b -f -p $MINICONDA_PREFIX\n",
    "conda install --channel defaults conda python=3.6 --yes\n",
    "conda update --channel defaults --all --yes"
   ]
  },
  {
   "cell_type": "code",
   "execution_count": null,
   "metadata": {},
   "outputs": [],
   "source": [
    "import sys\n",
    "_ = (sys.path.append(\"/usr/local/lib/python3.6/site-packages\"))"
   ]
  },
  {
   "cell_type": "code",
   "execution_count": null,
   "metadata": {},
   "outputs": [],
   "source": [
    "!conda install -c conda-forge pandas numpy matplotlib seaborn -y"
   ]
  },
  {
   "cell_type": "code",
   "execution_count": null,
   "metadata": {},
   "outputs": [],
   "source": [
    "!git clone -l -s git://github.com/AyanSinhaMahapatra/scancode-results-analyzer.git scancode-results-analyzer\n",
    "%cd scancode-results-analyzer\n",
    "!ls"
   ]
  },
  {
   "cell_type": "code",
   "execution_count": null,
   "metadata": {},
   "outputs": [],
   "source": [
    "sys.path.append('/content/scancode-results-analyzer/src')"
   ]
  },
  {
   "cell_type": "markdown",
   "metadata": {},
   "source": [
    "# `load_results_file.py`"
   ]
  },
  {
   "cell_type": "code",
   "execution_count": 1,
   "metadata": {},
   "outputs": [],
   "source": [
    "import sys\n",
    "import numpy as np\n",
    "import pandas as pd\n",
    "import os\n",
    "\n",
    "# Path To Local Folder\n",
    "sys.path.append('/home/ayan/Desktop/nexB/gsoc20/scancode-results-analyzer/src')"
   ]
  },
  {
   "cell_type": "code",
   "execution_count": 2,
   "metadata": {},
   "outputs": [],
   "source": [
    "from results_analyze.load_results_package import ResultsDataFramePackage\n",
    "results_package = ResultsDataFramePackage()"
   ]
  },
  {
   "cell_type": "markdown",
   "metadata": {},
   "source": [
    "## Import Data From JSON instead of Database, on Google Colab"
   ]
  },
  {
   "cell_type": "code",
   "execution_count": 4,
   "metadata": {},
   "outputs": [],
   "source": [
    "json_filename = \"lic_scancode_before.json\"\n",
    "json_filepath = os.path.join(results_package.json_input_dir, json_filename)\n",
    "mock_metadata_filepath = os.path.join(results_package.json_input_dir, results_package.mock_metadata_filename)"
   ]
  },
  {
   "cell_type": "code",
   "execution_count": 5,
   "metadata": {},
   "outputs": [
    {
     "data": {
      "text/html": [
       "<div>\n",
       "<style scoped>\n",
       "    .dataframe tbody tr th:only-of-type {\n",
       "        vertical-align: middle;\n",
       "    }\n",
       "\n",
       "    .dataframe tbody tr th {\n",
       "        vertical-align: top;\n",
       "    }\n",
       "\n",
       "    .dataframe thead th {\n",
       "        text-align: right;\n",
       "    }\n",
       "</style>\n",
       "<table border=\"1\" class=\"dataframe\">\n",
       "  <thead>\n",
       "    <tr style=\"text-align: right;\">\n",
       "      <th></th>\n",
       "      <th>path</th>\n",
       "      <th>json_content</th>\n",
       "    </tr>\n",
       "  </thead>\n",
       "  <tbody>\n",
       "    <tr>\n",
       "      <th>0</th>\n",
       "      <td>mock/data/-/multiple-packages/random/1.0.0/too...</td>\n",
       "      <td>{'_metadata': {'type': 'scancode', 'url': 'cd:...</td>\n",
       "    </tr>\n",
       "  </tbody>\n",
       "</table>\n",
       "</div>"
      ],
      "text/plain": [
       "                                                path  \\\n",
       "0  mock/data/-/multiple-packages/random/1.0.0/too...   \n",
       "\n",
       "                                        json_content  \n",
       "0  {'_metadata': {'type': 'scancode', 'url': 'cd:...  "
      ]
     },
     "execution_count": 5,
     "metadata": {},
     "output_type": "execute_result"
    }
   ],
   "source": [
    "path_json_dataframe = results_package.mock_db_data_from_json(json_filepath, mock_metadata_filepath)\n",
    "path_json_dataframe"
   ]
  },
  {
   "cell_type": "markdown",
   "metadata": {},
   "source": [
    "## Importing Data From Postgres DataBase"
   ]
  },
  {
   "cell_type": "markdown",
   "metadata": {},
   "source": [
    "Simulating Data going into `ResultsDataFrameFile.create_file_level_dataframe` function, which is called by `ResultsDataFramePackage.create_package_level_dataframe`.\n",
    "Using code snippets from `ResultsDataFramePackage.create_package_level_dataframe`."
   ]
  },
  {
   "cell_type": "code",
   "execution_count": 3,
   "metadata": {},
   "outputs": [],
   "source": [
    "path_json_dataframe = results_package.convert_records_to_json(20)"
   ]
  },
  {
   "cell_type": "markdown",
   "metadata": {},
   "source": [
    "Creates `files_dataframe` and breaks at a good example, `file_list` is passed into `ResultsDataFrameFile.create_file_level_dataframe`."
   ]
  },
  {
   "cell_type": "code",
   "execution_count": 6,
   "metadata": {},
   "outputs": [],
   "source": [
    "files_dataframe, metadata_dataframe = results_package.modify_package_level_dataframe(path_json_dataframe)\n",
    "\n",
    "for package_scan_result in files_dataframe.itertuples():\n",
    "    file_list = package_scan_result[2]\n",
    "    if package_scan_result[0] == 0:\n",
    "        break"
   ]
  },
  {
   "cell_type": "code",
   "execution_count": 7,
   "metadata": {},
   "outputs": [
    {
     "data": {
      "text/plain": [
       "list"
      ]
     },
     "execution_count": 7,
     "metadata": {},
     "output_type": "execute_result"
    }
   ],
   "source": [
    "type(file_list)"
   ]
  },
  {
   "cell_type": "code",
   "execution_count": 8,
   "metadata": {},
   "outputs": [
    {
     "data": {
      "text/plain": [
       "(54,)"
      ]
     },
     "execution_count": 8,
     "metadata": {},
     "output_type": "execute_result"
    }
   ],
   "source": [
    "np.shape(file_list)"
   ]
  },
  {
   "cell_type": "markdown",
   "metadata": {},
   "source": [
    "One of the entries inside the list of dicts."
   ]
  },
  {
   "cell_type": "code",
   "execution_count": 9,
   "metadata": {},
   "outputs": [
    {
     "data": {
      "text/plain": [
       "{'path': 'Issues/1906-libwebsoclets-output.c',\n",
       " 'type': 'file',\n",
       " 'name': '1906-libwebsoclets-output.c',\n",
       " 'base_name': '1906-libwebsoclets-output',\n",
       " 'extension': '.c',\n",
       " 'size': 22888,\n",
       " 'date': '2017-07-28',\n",
       " 'sha1': '6c990c4a7fc56bf9f1df2b859cf5e4be7d285d5e',\n",
       " 'md5': '3c9cf47646361f6c51e2c932c688dd88',\n",
       " 'mime_type': 'text/x-c',\n",
       " 'file_type': 'C source, ASCII text',\n",
       " 'programming_language': 'C++',\n",
       " 'is_binary': False,\n",
       " 'is_text': True,\n",
       " 'is_archive': False,\n",
       " 'is_media': False,\n",
       " 'is_source': True,\n",
       " 'is_script': False,\n",
       " 'licenses': [{'key': 'lgpl-2.1',\n",
       "   'score': 100.0,\n",
       "   'name': 'GNU Lesser General Public License 2.1',\n",
       "   'short_name': 'LGPL 2.1',\n",
       "   'category': 'Copyleft Limited',\n",
       "   'is_exception': False,\n",
       "   'owner': 'Free Software Foundation (FSF)',\n",
       "   'homepage_url': 'http://www.gnu.org/licenses/lgpl-2.1.html',\n",
       "   'text_url': 'http://www.gnu.org/licenses/lgpl-2.1.txt',\n",
       "   'reference_url': 'https://enterprise.dejacode.com/urn/urn:dje:license:lgpl-2.1',\n",
       "   'spdx_license_key': 'LGPL-2.1-only',\n",
       "   'spdx_url': 'https://spdx.org/licenses/LGPL-2.1-only',\n",
       "   'start_line': 6,\n",
       "   'end_line': 14,\n",
       "   'matched_rule': {'identifier': 'lgpl-2.1_65.RULE',\n",
       "    'license_expression': 'lgpl-2.1',\n",
       "    'licenses': ['lgpl-2.1'],\n",
       "    'is_license_text': False,\n",
       "    'is_license_notice': True,\n",
       "    'is_license_reference': False,\n",
       "    'is_license_tag': False,\n",
       "    'matcher': '2-aho',\n",
       "    'rule_length': 74,\n",
       "    'matched_length': 74,\n",
       "    'match_coverage': 100.0,\n",
       "    'rule_relevance': 100},\n",
       "   'matched_text': ' *  This library is free software; you can redistribute it and/or\\n *  modify it under the terms of the GNU Lesser General Public\\n *  License as published by the Free Software Foundation:\\n *  version 2.1 of the License.\\n *\\n *  This library is distributed in the hope that it will be useful,\\n *  but WITHOUT ANY WARRANTY; without even the implied warranty of\\n *  MERCHANTABILITY or FITNESS FOR A PARTICULAR PURPOSE.  See the GNU\\n *  Lesser General Public License for more details.'},\n",
       "  {'key': 'lgpl-2.1-plus',\n",
       "   'score': 33.0,\n",
       "   'name': 'GNU Lesser General Public License 2.1 or later',\n",
       "   'short_name': 'LGPL 2.1 or later',\n",
       "   'category': 'Copyleft Limited',\n",
       "   'is_exception': False,\n",
       "   'owner': 'Free Software Foundation (FSF)',\n",
       "   'homepage_url': 'http://www.gnu.org/licenses/old-licenses/lgpl-2.1-standalone.html',\n",
       "   'text_url': 'http://www.gnu.org/licenses/old-licenses/lgpl-2.1-standalone.html',\n",
       "   'reference_url': 'https://enterprise.dejacode.com/urn/urn:dje:license:lgpl-2.1-plus',\n",
       "   'spdx_license_key': 'LGPL-2.1-or-later',\n",
       "   'spdx_url': 'https://spdx.org/licenses/LGPL-2.1-or-later',\n",
       "   'start_line': 16,\n",
       "   'end_line': 17,\n",
       "   'matched_rule': {'identifier': 'lgpl-2.1-plus_83_1.RULE',\n",
       "    'license_expression': 'lgpl-2.1-plus',\n",
       "    'licenses': ['lgpl-2.1-plus'],\n",
       "    'is_license_text': False,\n",
       "    'is_license_notice': False,\n",
       "    'is_license_reference': True,\n",
       "    'is_license_tag': False,\n",
       "    'matcher': '2-aho',\n",
       "    'rule_length': 6,\n",
       "    'matched_length': 6,\n",
       "    'match_coverage': 100.0,\n",
       "    'rule_relevance': 33},\n",
       "   'matched_text': ' *  You should have received a copy of the GNU Lesser General Public\\n *  License along with this library; if not, write to the Free Software'},\n",
       "  {'key': 'other-copyleft',\n",
       "   'score': 90.0,\n",
       "   'name': 'Other Copyleft Licenses',\n",
       "   'short_name': 'Other Copyleft Licenses',\n",
       "   'category': 'Copyleft',\n",
       "   'is_exception': False,\n",
       "   'owner': 'nexB',\n",
       "   'homepage_url': None,\n",
       "   'text_url': '',\n",
       "   'reference_url': 'https://enterprise.dejacode.com/urn/urn:dje:license:other-copyleft',\n",
       "   'spdx_license_key': None,\n",
       "   'spdx_url': '',\n",
       "   'start_line': 17,\n",
       "   'end_line': 19,\n",
       "   'matched_rule': {'identifier': 'other-copyleft_fsf_address_1.RULE',\n",
       "    'license_expression': 'other-copyleft',\n",
       "    'licenses': ['other-copyleft'],\n",
       "    'is_license_text': False,\n",
       "    'is_license_notice': False,\n",
       "    'is_license_reference': True,\n",
       "    'is_license_tag': False,\n",
       "    'matcher': '2-aho',\n",
       "    'rule_length': 14,\n",
       "    'matched_length': 14,\n",
       "    'match_coverage': 100.0,\n",
       "    'rule_relevance': 90.0},\n",
       "   'matched_text': ' *  License along with this library; if not, write to the Free Software\\n *  Foundation, Inc., 51 Franklin Street, Fifth Floor, Boston,\\n *  MA  02110-1301  USA'}],\n",
       " 'license_expressions': ['lgpl-2.1', 'lgpl-2.1-plus', 'other-copyleft'],\n",
       " 'copyrights': [{'value': 'Copyright (c) 2010-2015 Andy Green <andy@warmcat.com>',\n",
       "   'start_line': 4,\n",
       "   'end_line': 4}],\n",
       " 'holders': [{'value': 'Andy Green', 'start_line': 4, 'end_line': 4}],\n",
       " 'authors': [],\n",
       " 'packages': [],\n",
       " 'emails': [{'email': 'andy@warmcat.com', 'start_line': 4, 'end_line': 4}],\n",
       " 'urls': [],\n",
       " 'is_legal': False,\n",
       " 'is_manifest': False,\n",
       " 'is_readme': False,\n",
       " 'is_top_level': True,\n",
       " 'is_key_file': False,\n",
       " 'is_generated': False,\n",
       " 'is_license_text': False,\n",
       " 'files_count': 0,\n",
       " 'dirs_count': 0,\n",
       " 'size_count': 0,\n",
       " 'scan_errors': []}"
      ]
     },
     "execution_count": 9,
     "metadata": {},
     "output_type": "execute_result"
    }
   ],
   "source": [
    "file_list[3]"
   ]
  },
  {
   "cell_type": "markdown",
   "metadata": {},
   "source": [
    "## Loads List of Dicts into DataFrame"
   ]
  },
  {
   "cell_type": "code",
   "execution_count": 10,
   "metadata": {},
   "outputs": [],
   "source": [
    "from results_analyze.load_results_file import ResultsDataFrameFile\n",
    "results_file = ResultsDataFrameFile()\n",
    "file_level_dataframe = pd.DataFrame(file_list)"
   ]
  },
  {
   "cell_type": "markdown",
   "metadata": {},
   "source": [
    "Viewing DataFrame Columns and their types by calling `DataFrame.dtypes`"
   ]
  },
  {
   "cell_type": "code",
   "execution_count": 11,
   "metadata": {},
   "outputs": [
    {
     "data": {
      "text/plain": [
       "path                    object\n",
       "type                    object\n",
       "name                    object\n",
       "base_name               object\n",
       "extension               object\n",
       "size                     int64\n",
       "date                    object\n",
       "sha1                    object\n",
       "md5                     object\n",
       "mime_type               object\n",
       "file_type               object\n",
       "programming_language    object\n",
       "is_binary                 bool\n",
       "is_text                   bool\n",
       "is_archive                bool\n",
       "is_media                  bool\n",
       "is_source                 bool\n",
       "is_script                 bool\n",
       "licenses                object\n",
       "license_expressions     object\n",
       "copyrights              object\n",
       "holders                 object\n",
       "authors                 object\n",
       "packages                object\n",
       "emails                  object\n",
       "urls                    object\n",
       "is_legal                  bool\n",
       "is_manifest               bool\n",
       "is_readme                 bool\n",
       "is_top_level              bool\n",
       "is_key_file               bool\n",
       "is_generated              bool\n",
       "is_license_text           bool\n",
       "files_count              int64\n",
       "dirs_count               int64\n",
       "size_count               int64\n",
       "scan_errors             object\n",
       "dtype: object"
      ]
     },
     "execution_count": 11,
     "metadata": {},
     "output_type": "execute_result"
    }
   ],
   "source": [
    "file_level_dataframe.dtypes"
   ]
  },
  {
   "cell_type": "code",
   "execution_count": 12,
   "metadata": {},
   "outputs": [
    {
     "data": {
      "text/plain": [
       "(54, 37)"
      ]
     },
     "execution_count": 12,
     "metadata": {},
     "output_type": "execute_result"
    }
   ],
   "source": [
    "file_level_dataframe.shape"
   ]
  },
  {
   "cell_type": "code",
   "execution_count": 13,
   "metadata": {},
   "outputs": [
    {
     "data": {
      "text/plain": [
       "\u001b[0;31mSignature:\u001b[0m \u001b[0mresults_file\u001b[0m\u001b[0;34m.\u001b[0m\u001b[0mmodify_file_level_dataframe\u001b[0m\u001b[0;34m(\u001b[0m\u001b[0mdataframe_files\u001b[0m\u001b[0;34m)\u001b[0m\u001b[0;34m\u001b[0m\u001b[0;34m\u001b[0m\u001b[0m\n",
       "\u001b[0;31mDocstring:\u001b[0m\n",
       "Takes a File Level DataFrame, drops unnecessary columns, drops all directory rows, drops same files,\n",
       "drop files with no license detections, and makes sha1 column as the file level Index [Primary Key].\n",
       "\n",
       ":param dataframe_files: pd.DataFrame\n",
       "    File Level DataFrame\n",
       "\n",
       ":returns has_data: bool\n",
       "    If A File Level DataFrame is non-empty\n",
       "\u001b[0;31mFile:\u001b[0m      ~/Desktop/nexB/gsoc20/scancode-results-analyzer/src/results_analyze/load_results_file.py\n",
       "\u001b[0;31mType:\u001b[0m      method\n"
      ]
     },
     "metadata": {},
     "output_type": "display_data"
    }
   ],
   "source": [
    "results_file.modify_file_level_dataframe?"
   ]
  },
  {
   "cell_type": "code",
   "execution_count": 14,
   "metadata": {},
   "outputs": [
    {
     "data": {
      "text/plain": [
       "True"
      ]
     },
     "execution_count": 14,
     "metadata": {},
     "output_type": "execute_result"
    }
   ],
   "source": [
    "results_file.modify_file_level_dataframe(file_level_dataframe)"
   ]
  },
  {
   "cell_type": "code",
   "execution_count": 15,
   "metadata": {},
   "outputs": [
    {
     "data": {
      "text/plain": [
       "(44, 20)"
      ]
     },
     "execution_count": 15,
     "metadata": {},
     "output_type": "execute_result"
    }
   ],
   "source": [
    "file_level_dataframe.shape"
   ]
  },
  {
   "cell_type": "code",
   "execution_count": 16,
   "metadata": {},
   "outputs": [
    {
     "data": {
      "text/plain": [
       "path                     object\n",
       "size                      int64\n",
       "mime_type                object\n",
       "file_type                object\n",
       "programming_language     object\n",
       "is_binary                  bool\n",
       "is_text                    bool\n",
       "is_archive                 bool\n",
       "is_media                   bool\n",
       "is_source                  bool\n",
       "is_script                  bool\n",
       "licenses                 object\n",
       "is_legal                   bool\n",
       "is_manifest                bool\n",
       "is_readme                  bool\n",
       "is_top_level               bool\n",
       "is_key_file                bool\n",
       "is_generated               bool\n",
       "is_license_text            bool\n",
       "license_detections_no     int64\n",
       "dtype: object"
      ]
     },
     "execution_count": 16,
     "metadata": {},
     "output_type": "execute_result"
    }
   ],
   "source": [
    "file_level_dataframe.dtypes"
   ]
  },
  {
   "cell_type": "markdown",
   "metadata": {},
   "source": [
    "Some entries inside `file_level_dataframe`, here `licenses` column contains list of dicts, where list length is number of license detections per file."
   ]
  },
  {
   "cell_type": "code",
   "execution_count": 17,
   "metadata": {},
   "outputs": [
    {
     "data": {
      "text/html": [
       "<div>\n",
       "<style scoped>\n",
       "    .dataframe tbody tr th:only-of-type {\n",
       "        vertical-align: middle;\n",
       "    }\n",
       "\n",
       "    .dataframe tbody tr th {\n",
       "        vertical-align: top;\n",
       "    }\n",
       "\n",
       "    .dataframe thead th {\n",
       "        text-align: right;\n",
       "    }\n",
       "</style>\n",
       "<table border=\"1\" class=\"dataframe\">\n",
       "  <thead>\n",
       "    <tr style=\"text-align: right;\">\n",
       "      <th></th>\n",
       "      <th>path</th>\n",
       "      <th>size</th>\n",
       "      <th>mime_type</th>\n",
       "      <th>file_type</th>\n",
       "      <th>programming_language</th>\n",
       "      <th>is_binary</th>\n",
       "      <th>is_text</th>\n",
       "      <th>is_archive</th>\n",
       "      <th>is_media</th>\n",
       "      <th>is_source</th>\n",
       "      <th>is_script</th>\n",
       "      <th>licenses</th>\n",
       "      <th>is_legal</th>\n",
       "      <th>is_manifest</th>\n",
       "      <th>is_readme</th>\n",
       "      <th>is_top_level</th>\n",
       "      <th>is_key_file</th>\n",
       "      <th>is_generated</th>\n",
       "      <th>is_license_text</th>\n",
       "      <th>license_detections_no</th>\n",
       "    </tr>\n",
       "    <tr>\n",
       "      <th>sha1</th>\n",
       "      <th></th>\n",
       "      <th></th>\n",
       "      <th></th>\n",
       "      <th></th>\n",
       "      <th></th>\n",
       "      <th></th>\n",
       "      <th></th>\n",
       "      <th></th>\n",
       "      <th></th>\n",
       "      <th></th>\n",
       "      <th></th>\n",
       "      <th></th>\n",
       "      <th></th>\n",
       "      <th></th>\n",
       "      <th></th>\n",
       "      <th></th>\n",
       "      <th></th>\n",
       "      <th></th>\n",
       "      <th></th>\n",
       "      <th></th>\n",
       "    </tr>\n",
       "  </thead>\n",
       "  <tbody>\n",
       "    <tr>\n",
       "      <th>c7253ba65436387ccb9bf393378cbeb725c7325e</th>\n",
       "      <td>Issues/1904-azure-iot-sdk-c-makefile.iot</td>\n",
       "      <td>3391</td>\n",
       "      <td>text/plain</td>\n",
       "      <td>ASCII text</td>\n",
       "      <td>None</td>\n",
       "      <td>False</td>\n",
       "      <td>True</td>\n",
       "      <td>False</td>\n",
       "      <td>False</td>\n",
       "      <td>False</td>\n",
       "      <td>False</td>\n",
       "      <td>[{'key': 'gpl-1.0-plus', 'score': 73.33, 'name...</td>\n",
       "      <td>False</td>\n",
       "      <td>False</td>\n",
       "      <td>False</td>\n",
       "      <td>True</td>\n",
       "      <td>False</td>\n",
       "      <td>False</td>\n",
       "      <td>False</td>\n",
       "      <td>2</td>\n",
       "    </tr>\n",
       "    <tr>\n",
       "      <th>a2d7a215eaedef8ab149bb6a5baedcb54a9850a3</th>\n",
       "      <td>Issues/1906-libwebsockets-output.c</td>\n",
       "      <td>33269</td>\n",
       "      <td>text/x-c</td>\n",
       "      <td>C source, ASCII text</td>\n",
       "      <td>C++</td>\n",
       "      <td>False</td>\n",
       "      <td>True</td>\n",
       "      <td>False</td>\n",
       "      <td>False</td>\n",
       "      <td>True</td>\n",
       "      <td>False</td>\n",
       "      <td>[{'key': 'lgpl-2.1', 'score': 100.0, 'name': '...</td>\n",
       "      <td>False</td>\n",
       "      <td>False</td>\n",
       "      <td>False</td>\n",
       "      <td>True</td>\n",
       "      <td>False</td>\n",
       "      <td>False</td>\n",
       "      <td>False</td>\n",
       "      <td>3</td>\n",
       "    </tr>\n",
       "    <tr>\n",
       "      <th>6c990c4a7fc56bf9f1df2b859cf5e4be7d285d5e</th>\n",
       "      <td>Issues/1906-libwebsoclets-output.c</td>\n",
       "      <td>22888</td>\n",
       "      <td>text/x-c</td>\n",
       "      <td>C source, ASCII text</td>\n",
       "      <td>C++</td>\n",
       "      <td>False</td>\n",
       "      <td>True</td>\n",
       "      <td>False</td>\n",
       "      <td>False</td>\n",
       "      <td>True</td>\n",
       "      <td>False</td>\n",
       "      <td>[{'key': 'lgpl-2.1', 'score': 100.0, 'name': '...</td>\n",
       "      <td>False</td>\n",
       "      <td>False</td>\n",
       "      <td>False</td>\n",
       "      <td>True</td>\n",
       "      <td>False</td>\n",
       "      <td>False</td>\n",
       "      <td>False</td>\n",
       "      <td>3</td>\n",
       "    </tr>\n",
       "    <tr>\n",
       "      <th>6db3a67499cbba3a63354231bd4d35183e44f2ef</th>\n",
       "      <td>Issues/1907-bison-2.4.3-getargs.c</td>\n",
       "      <td>15802</td>\n",
       "      <td>text/x-c</td>\n",
       "      <td>C source, ASCII text</td>\n",
       "      <td>C++</td>\n",
       "      <td>False</td>\n",
       "      <td>True</td>\n",
       "      <td>False</td>\n",
       "      <td>False</td>\n",
       "      <td>True</td>\n",
       "      <td>False</td>\n",
       "      <td>[{'key': 'gpl-3.0-plus', 'score': 100.0, 'name...</td>\n",
       "      <td>False</td>\n",
       "      <td>False</td>\n",
       "      <td>False</td>\n",
       "      <td>True</td>\n",
       "      <td>False</td>\n",
       "      <td>False</td>\n",
       "      <td>False</td>\n",
       "      <td>2</td>\n",
       "    </tr>\n",
       "    <tr>\n",
       "      <th>5dd305e238554f6d0c5b9064a29607816a2e0878</th>\n",
       "      <td>Issues/1908-bzip2-1.0.5-bzip2.c</td>\n",
       "      <td>58670</td>\n",
       "      <td>text/x-c</td>\n",
       "      <td>C source, ASCII text</td>\n",
       "      <td>C++</td>\n",
       "      <td>False</td>\n",
       "      <td>True</td>\n",
       "      <td>False</td>\n",
       "      <td>False</td>\n",
       "      <td>True</td>\n",
       "      <td>False</td>\n",
       "      <td>[{'key': 'bzip2-libbzip-2010', 'score': 62.79,...</td>\n",
       "      <td>False</td>\n",
       "      <td>False</td>\n",
       "      <td>False</td>\n",
       "      <td>True</td>\n",
       "      <td>False</td>\n",
       "      <td>False</td>\n",
       "      <td>False</td>\n",
       "      <td>3</td>\n",
       "    </tr>\n",
       "  </tbody>\n",
       "</table>\n",
       "</div>"
      ],
      "text/plain": [
       "                                                                              path  \\\n",
       "sha1                                                                                 \n",
       "c7253ba65436387ccb9bf393378cbeb725c7325e  Issues/1904-azure-iot-sdk-c-makefile.iot   \n",
       "a2d7a215eaedef8ab149bb6a5baedcb54a9850a3        Issues/1906-libwebsockets-output.c   \n",
       "6c990c4a7fc56bf9f1df2b859cf5e4be7d285d5e        Issues/1906-libwebsoclets-output.c   \n",
       "6db3a67499cbba3a63354231bd4d35183e44f2ef         Issues/1907-bison-2.4.3-getargs.c   \n",
       "5dd305e238554f6d0c5b9064a29607816a2e0878           Issues/1908-bzip2-1.0.5-bzip2.c   \n",
       "\n",
       "                                           size   mime_type  \\\n",
       "sha1                                                          \n",
       "c7253ba65436387ccb9bf393378cbeb725c7325e   3391  text/plain   \n",
       "a2d7a215eaedef8ab149bb6a5baedcb54a9850a3  33269    text/x-c   \n",
       "6c990c4a7fc56bf9f1df2b859cf5e4be7d285d5e  22888    text/x-c   \n",
       "6db3a67499cbba3a63354231bd4d35183e44f2ef  15802    text/x-c   \n",
       "5dd305e238554f6d0c5b9064a29607816a2e0878  58670    text/x-c   \n",
       "\n",
       "                                                     file_type  \\\n",
       "sha1                                                             \n",
       "c7253ba65436387ccb9bf393378cbeb725c7325e            ASCII text   \n",
       "a2d7a215eaedef8ab149bb6a5baedcb54a9850a3  C source, ASCII text   \n",
       "6c990c4a7fc56bf9f1df2b859cf5e4be7d285d5e  C source, ASCII text   \n",
       "6db3a67499cbba3a63354231bd4d35183e44f2ef  C source, ASCII text   \n",
       "5dd305e238554f6d0c5b9064a29607816a2e0878  C source, ASCII text   \n",
       "\n",
       "                                         programming_language  is_binary  \\\n",
       "sha1                                                                       \n",
       "c7253ba65436387ccb9bf393378cbeb725c7325e                 None      False   \n",
       "a2d7a215eaedef8ab149bb6a5baedcb54a9850a3                  C++      False   \n",
       "6c990c4a7fc56bf9f1df2b859cf5e4be7d285d5e                  C++      False   \n",
       "6db3a67499cbba3a63354231bd4d35183e44f2ef                  C++      False   \n",
       "5dd305e238554f6d0c5b9064a29607816a2e0878                  C++      False   \n",
       "\n",
       "                                          is_text  is_archive  is_media  \\\n",
       "sha1                                                                      \n",
       "c7253ba65436387ccb9bf393378cbeb725c7325e     True       False     False   \n",
       "a2d7a215eaedef8ab149bb6a5baedcb54a9850a3     True       False     False   \n",
       "6c990c4a7fc56bf9f1df2b859cf5e4be7d285d5e     True       False     False   \n",
       "6db3a67499cbba3a63354231bd4d35183e44f2ef     True       False     False   \n",
       "5dd305e238554f6d0c5b9064a29607816a2e0878     True       False     False   \n",
       "\n",
       "                                          is_source  is_script  \\\n",
       "sha1                                                             \n",
       "c7253ba65436387ccb9bf393378cbeb725c7325e      False      False   \n",
       "a2d7a215eaedef8ab149bb6a5baedcb54a9850a3       True      False   \n",
       "6c990c4a7fc56bf9f1df2b859cf5e4be7d285d5e       True      False   \n",
       "6db3a67499cbba3a63354231bd4d35183e44f2ef       True      False   \n",
       "5dd305e238554f6d0c5b9064a29607816a2e0878       True      False   \n",
       "\n",
       "                                                                                   licenses  \\\n",
       "sha1                                                                                          \n",
       "c7253ba65436387ccb9bf393378cbeb725c7325e  [{'key': 'gpl-1.0-plus', 'score': 73.33, 'name...   \n",
       "a2d7a215eaedef8ab149bb6a5baedcb54a9850a3  [{'key': 'lgpl-2.1', 'score': 100.0, 'name': '...   \n",
       "6c990c4a7fc56bf9f1df2b859cf5e4be7d285d5e  [{'key': 'lgpl-2.1', 'score': 100.0, 'name': '...   \n",
       "6db3a67499cbba3a63354231bd4d35183e44f2ef  [{'key': 'gpl-3.0-plus', 'score': 100.0, 'name...   \n",
       "5dd305e238554f6d0c5b9064a29607816a2e0878  [{'key': 'bzip2-libbzip-2010', 'score': 62.79,...   \n",
       "\n",
       "                                          is_legal  is_manifest  is_readme  \\\n",
       "sha1                                                                         \n",
       "c7253ba65436387ccb9bf393378cbeb725c7325e     False        False      False   \n",
       "a2d7a215eaedef8ab149bb6a5baedcb54a9850a3     False        False      False   \n",
       "6c990c4a7fc56bf9f1df2b859cf5e4be7d285d5e     False        False      False   \n",
       "6db3a67499cbba3a63354231bd4d35183e44f2ef     False        False      False   \n",
       "5dd305e238554f6d0c5b9064a29607816a2e0878     False        False      False   \n",
       "\n",
       "                                          is_top_level  is_key_file  \\\n",
       "sha1                                                                  \n",
       "c7253ba65436387ccb9bf393378cbeb725c7325e          True        False   \n",
       "a2d7a215eaedef8ab149bb6a5baedcb54a9850a3          True        False   \n",
       "6c990c4a7fc56bf9f1df2b859cf5e4be7d285d5e          True        False   \n",
       "6db3a67499cbba3a63354231bd4d35183e44f2ef          True        False   \n",
       "5dd305e238554f6d0c5b9064a29607816a2e0878          True        False   \n",
       "\n",
       "                                          is_generated  is_license_text  \\\n",
       "sha1                                                                      \n",
       "c7253ba65436387ccb9bf393378cbeb725c7325e         False            False   \n",
       "a2d7a215eaedef8ab149bb6a5baedcb54a9850a3         False            False   \n",
       "6c990c4a7fc56bf9f1df2b859cf5e4be7d285d5e         False            False   \n",
       "6db3a67499cbba3a63354231bd4d35183e44f2ef         False            False   \n",
       "5dd305e238554f6d0c5b9064a29607816a2e0878         False            False   \n",
       "\n",
       "                                          license_detections_no  \n",
       "sha1                                                             \n",
       "c7253ba65436387ccb9bf393378cbeb725c7325e                      2  \n",
       "a2d7a215eaedef8ab149bb6a5baedcb54a9850a3                      3  \n",
       "6c990c4a7fc56bf9f1df2b859cf5e4be7d285d5e                      3  \n",
       "6db3a67499cbba3a63354231bd4d35183e44f2ef                      2  \n",
       "5dd305e238554f6d0c5b9064a29607816a2e0878                      3  "
      ]
     },
     "execution_count": 17,
     "metadata": {},
     "output_type": "execute_result"
    }
   ],
   "source": [
    "file_level_dataframe.head(5)"
   ]
  },
  {
   "cell_type": "markdown",
   "metadata": {},
   "source": [
    "These lines takes out all these licenses into `DataFrames`. "
   ]
  },
  {
   "cell_type": "code",
   "execution_count": 18,
   "metadata": {},
   "outputs": [],
   "source": [
    "lic_level_dataframe = file_level_dataframe.groupby('sha1').licenses.apply(lambda x: pd.DataFrame(x.values[0])).reset_index()\n",
    "lic_level_dataframe.rename(columns={'level_1': 'lic_det_num'}, inplace=True)"
   ]
  },
  {
   "cell_type": "markdown",
   "metadata": {},
   "source": [
    "These are only license level information in the columns."
   ]
  },
  {
   "cell_type": "code",
   "execution_count": 19,
   "metadata": {},
   "outputs": [
    {
     "data": {
      "text/plain": [
       "sha1                 object\n",
       "lic_det_num           int64\n",
       "key                  object\n",
       "score               float64\n",
       "name                 object\n",
       "short_name           object\n",
       "category             object\n",
       "is_exception           bool\n",
       "owner                object\n",
       "homepage_url         object\n",
       "text_url             object\n",
       "reference_url        object\n",
       "spdx_license_key     object\n",
       "spdx_url             object\n",
       "start_line            int64\n",
       "end_line              int64\n",
       "matched_rule         object\n",
       "matched_text         object\n",
       "dtype: object"
      ]
     },
     "execution_count": 19,
     "metadata": {},
     "output_type": "execute_result"
    }
   ],
   "source": [
    "lic_level_dataframe.dtypes"
   ]
  },
  {
   "cell_type": "code",
   "execution_count": 20,
   "metadata": {},
   "outputs": [
    {
     "data": {
      "text/plain": [
       "\u001b[0;31mSignature:\u001b[0m \u001b[0mresults_file\u001b[0m\u001b[0;34m.\u001b[0m\u001b[0mmodify_lic_level_dataframe\u001b[0m\u001b[0;34m(\u001b[0m\u001b[0mdataframe_lic\u001b[0m\u001b[0;34m)\u001b[0m\u001b[0;34m\u001b[0m\u001b[0;34m\u001b[0m\u001b[0m\n",
       "\u001b[0;31mDocstring:\u001b[0m\n",
       "Modifies License level DataFrame, from 'matched_rule' dicts, bring information to columns.\n",
       "Maps Rule Names and other strings to integer values to compress.\n",
       "\n",
       ":param dataframe_lic: pd.DataFrame\n",
       ":return dataframe_lic: pd.DataFrame\n",
       "\u001b[0;31mFile:\u001b[0m      ~/Desktop/nexB/gsoc20/scancode-results-analyzer/src/results_analyze/load_results_file.py\n",
       "\u001b[0;31mType:\u001b[0m      method\n"
      ]
     },
     "metadata": {},
     "output_type": "display_data"
    }
   ],
   "source": [
    "results_file.modify_lic_level_dataframe?"
   ]
  },
  {
   "cell_type": "code",
   "execution_count": 21,
   "metadata": {},
   "outputs": [],
   "source": [
    "lic_level_dataframe = results_file.modify_lic_level_dataframe(lic_level_dataframe)"
   ]
  },
  {
   "cell_type": "code",
   "execution_count": 22,
   "metadata": {},
   "outputs": [
    {
     "data": {
      "text/plain": [
       "sha1                     object\n",
       "lic_det_num               int64\n",
       "key                      object\n",
       "score                   float64\n",
       "category                 object\n",
       "is_exception               bool\n",
       "start_line                int64\n",
       "end_line                  int64\n",
       "matched_text             object\n",
       "identifier               object\n",
       "is_license_text            bool\n",
       "is_license_notice          bool\n",
       "is_license_reference       bool\n",
       "is_license_tag             bool\n",
       "matcher                  object\n",
       "rule_length               int64\n",
       "matched_length            int64\n",
       "match_coverage          float64\n",
       "rule_relevance          float64\n",
       "dtype: object"
      ]
     },
     "execution_count": 22,
     "metadata": {},
     "output_type": "execute_result"
    }
   ],
   "source": [
    "lic_level_dataframe.dtypes"
   ]
  },
  {
   "cell_type": "code",
   "execution_count": 23,
   "metadata": {},
   "outputs": [],
   "source": [
    "lic_level_dataframe.set_index('sha1', inplace=True)"
   ]
  },
  {
   "cell_type": "markdown",
   "metadata": {},
   "source": [
    "Joins License level and File level Dataframes using Join operations, by the primary key `sha1`."
   ]
  },
  {
   "cell_type": "code",
   "execution_count": 24,
   "metadata": {},
   "outputs": [],
   "source": [
    "merged_df = file_level_dataframe.join(lic_level_dataframe, lsuffix='_file', rsuffix='_lic')\n",
    "merged_df.reset_index(inplace=True)\n",
    "merged_df.set_index(['sha1', 'lic_det_num'], inplace=True)"
   ]
  },
  {
   "cell_type": "markdown",
   "metadata": {},
   "source": [
    "## Notice how under one file, there can be many license rows, and there are 2 Primary key columns on the left, where there is a one-to-many relationship."
   ]
  },
  {
   "cell_type": "code",
   "execution_count": 25,
   "metadata": {},
   "outputs": [
    {
     "data": {
      "text/html": [
       "<div>\n",
       "<style scoped>\n",
       "    .dataframe tbody tr th:only-of-type {\n",
       "        vertical-align: middle;\n",
       "    }\n",
       "\n",
       "    .dataframe tbody tr th {\n",
       "        vertical-align: top;\n",
       "    }\n",
       "\n",
       "    .dataframe thead th {\n",
       "        text-align: right;\n",
       "    }\n",
       "</style>\n",
       "<table border=\"1\" class=\"dataframe\">\n",
       "  <thead>\n",
       "    <tr style=\"text-align: right;\">\n",
       "      <th></th>\n",
       "      <th></th>\n",
       "      <th>path</th>\n",
       "      <th>size</th>\n",
       "      <th>mime_type</th>\n",
       "      <th>file_type</th>\n",
       "      <th>programming_language</th>\n",
       "      <th>is_binary</th>\n",
       "      <th>is_text</th>\n",
       "      <th>is_archive</th>\n",
       "      <th>is_media</th>\n",
       "      <th>is_source</th>\n",
       "      <th>...</th>\n",
       "      <th>identifier</th>\n",
       "      <th>is_license_text_lic</th>\n",
       "      <th>is_license_notice</th>\n",
       "      <th>is_license_reference</th>\n",
       "      <th>is_license_tag</th>\n",
       "      <th>matcher</th>\n",
       "      <th>rule_length</th>\n",
       "      <th>matched_length</th>\n",
       "      <th>match_coverage</th>\n",
       "      <th>rule_relevance</th>\n",
       "    </tr>\n",
       "    <tr>\n",
       "      <th>sha1</th>\n",
       "      <th>lic_det_num</th>\n",
       "      <th></th>\n",
       "      <th></th>\n",
       "      <th></th>\n",
       "      <th></th>\n",
       "      <th></th>\n",
       "      <th></th>\n",
       "      <th></th>\n",
       "      <th></th>\n",
       "      <th></th>\n",
       "      <th></th>\n",
       "      <th></th>\n",
       "      <th></th>\n",
       "      <th></th>\n",
       "      <th></th>\n",
       "      <th></th>\n",
       "      <th></th>\n",
       "      <th></th>\n",
       "      <th></th>\n",
       "      <th></th>\n",
       "      <th></th>\n",
       "      <th></th>\n",
       "    </tr>\n",
       "  </thead>\n",
       "  <tbody>\n",
       "    <tr>\n",
       "      <th rowspan=\"5\" valign=\"top\">0463f3f27739f3fecb1e7c51130541fb213d7d29</th>\n",
       "      <th>0</th>\n",
       "      <td>Issues/1912-libtool-2.2.10-argz.c</td>\n",
       "      <td>5903</td>\n",
       "      <td>text/x-c</td>\n",
       "      <td>C source, ASCII text</td>\n",
       "      <td>C++</td>\n",
       "      <td>False</td>\n",
       "      <td>True</td>\n",
       "      <td>False</td>\n",
       "      <td>False</td>\n",
       "      <td>True</td>\n",
       "      <td>...</td>\n",
       "      <td>lgpl-2.1-plus_newlib.RULE</td>\n",
       "      <td>False</td>\n",
       "      <td>True</td>\n",
       "      <td>False</td>\n",
       "      <td>False</td>\n",
       "      <td>3-seq</td>\n",
       "      <td>128</td>\n",
       "      <td>52</td>\n",
       "      <td>40.62</td>\n",
       "      <td>100.0</td>\n",
       "    </tr>\n",
       "    <tr>\n",
       "      <th>1</th>\n",
       "      <td>Issues/1912-libtool-2.2.10-argz.c</td>\n",
       "      <td>5903</td>\n",
       "      <td>text/x-c</td>\n",
       "      <td>C source, ASCII text</td>\n",
       "      <td>C++</td>\n",
       "      <td>False</td>\n",
       "      <td>True</td>\n",
       "      <td>False</td>\n",
       "      <td>False</td>\n",
       "      <td>True</td>\n",
       "      <td>...</td>\n",
       "      <td>lead-in_unknown_11.RULE</td>\n",
       "      <td>False</td>\n",
       "      <td>False</td>\n",
       "      <td>True</td>\n",
       "      <td>False</td>\n",
       "      <td>2-aho</td>\n",
       "      <td>3</td>\n",
       "      <td>3</td>\n",
       "      <td>100.00</td>\n",
       "      <td>16.0</td>\n",
       "    </tr>\n",
       "    <tr>\n",
       "      <th>2</th>\n",
       "      <td>Issues/1912-libtool-2.2.10-argz.c</td>\n",
       "      <td>5903</td>\n",
       "      <td>text/x-c</td>\n",
       "      <td>C source, ASCII text</td>\n",
       "      <td>C++</td>\n",
       "      <td>False</td>\n",
       "      <td>True</td>\n",
       "      <td>False</td>\n",
       "      <td>False</td>\n",
       "      <td>True</td>\n",
       "      <td>...</td>\n",
       "      <td>lgpl-2.1-plus_83_1.RULE</td>\n",
       "      <td>False</td>\n",
       "      <td>False</td>\n",
       "      <td>True</td>\n",
       "      <td>False</td>\n",
       "      <td>2-aho</td>\n",
       "      <td>6</td>\n",
       "      <td>6</td>\n",
       "      <td>100.00</td>\n",
       "      <td>33.0</td>\n",
       "    </tr>\n",
       "    <tr>\n",
       "      <th>3</th>\n",
       "      <td>Issues/1912-libtool-2.2.10-argz.c</td>\n",
       "      <td>5903</td>\n",
       "      <td>text/x-c</td>\n",
       "      <td>C source, ASCII text</td>\n",
       "      <td>C++</td>\n",
       "      <td>False</td>\n",
       "      <td>True</td>\n",
       "      <td>False</td>\n",
       "      <td>False</td>\n",
       "      <td>True</td>\n",
       "      <td>...</td>\n",
       "      <td>lgpl-2.1-plus_83_1.RULE</td>\n",
       "      <td>False</td>\n",
       "      <td>False</td>\n",
       "      <td>True</td>\n",
       "      <td>False</td>\n",
       "      <td>2-aho</td>\n",
       "      <td>6</td>\n",
       "      <td>6</td>\n",
       "      <td>100.00</td>\n",
       "      <td>33.0</td>\n",
       "    </tr>\n",
       "    <tr>\n",
       "      <th>4</th>\n",
       "      <td>Issues/1912-libtool-2.2.10-argz.c</td>\n",
       "      <td>5903</td>\n",
       "      <td>text/x-c</td>\n",
       "      <td>C source, ASCII text</td>\n",
       "      <td>C++</td>\n",
       "      <td>False</td>\n",
       "      <td>True</td>\n",
       "      <td>False</td>\n",
       "      <td>False</td>\n",
       "      <td>True</td>\n",
       "      <td>...</td>\n",
       "      <td>lgpl_3.RULE</td>\n",
       "      <td>False</td>\n",
       "      <td>False</td>\n",
       "      <td>True</td>\n",
       "      <td>False</td>\n",
       "      <td>2-aho</td>\n",
       "      <td>7</td>\n",
       "      <td>7</td>\n",
       "      <td>100.00</td>\n",
       "      <td>38.0</td>\n",
       "    </tr>\n",
       "  </tbody>\n",
       "</table>\n",
       "<p>5 rows × 37 columns</p>\n",
       "</div>"
      ],
      "text/plain": [
       "                                                                                   path  \\\n",
       "sha1                                     lic_det_num                                      \n",
       "0463f3f27739f3fecb1e7c51130541fb213d7d29 0            Issues/1912-libtool-2.2.10-argz.c   \n",
       "                                         1            Issues/1912-libtool-2.2.10-argz.c   \n",
       "                                         2            Issues/1912-libtool-2.2.10-argz.c   \n",
       "                                         3            Issues/1912-libtool-2.2.10-argz.c   \n",
       "                                         4            Issues/1912-libtool-2.2.10-argz.c   \n",
       "\n",
       "                                                      size mime_type  \\\n",
       "sha1                                     lic_det_num                   \n",
       "0463f3f27739f3fecb1e7c51130541fb213d7d29 0            5903  text/x-c   \n",
       "                                         1            5903  text/x-c   \n",
       "                                         2            5903  text/x-c   \n",
       "                                         3            5903  text/x-c   \n",
       "                                         4            5903  text/x-c   \n",
       "\n",
       "                                                                 file_type  \\\n",
       "sha1                                     lic_det_num                         \n",
       "0463f3f27739f3fecb1e7c51130541fb213d7d29 0            C source, ASCII text   \n",
       "                                         1            C source, ASCII text   \n",
       "                                         2            C source, ASCII text   \n",
       "                                         3            C source, ASCII text   \n",
       "                                         4            C source, ASCII text   \n",
       "\n",
       "                                                     programming_language  \\\n",
       "sha1                                     lic_det_num                        \n",
       "0463f3f27739f3fecb1e7c51130541fb213d7d29 0                            C++   \n",
       "                                         1                            C++   \n",
       "                                         2                            C++   \n",
       "                                         3                            C++   \n",
       "                                         4                            C++   \n",
       "\n",
       "                                                      is_binary  is_text  \\\n",
       "sha1                                     lic_det_num                       \n",
       "0463f3f27739f3fecb1e7c51130541fb213d7d29 0                False     True   \n",
       "                                         1                False     True   \n",
       "                                         2                False     True   \n",
       "                                         3                False     True   \n",
       "                                         4                False     True   \n",
       "\n",
       "                                                      is_archive  is_media  \\\n",
       "sha1                                     lic_det_num                         \n",
       "0463f3f27739f3fecb1e7c51130541fb213d7d29 0                 False     False   \n",
       "                                         1                 False     False   \n",
       "                                         2                 False     False   \n",
       "                                         3                 False     False   \n",
       "                                         4                 False     False   \n",
       "\n",
       "                                                      is_source  ...  \\\n",
       "sha1                                     lic_det_num             ...   \n",
       "0463f3f27739f3fecb1e7c51130541fb213d7d29 0                 True  ...   \n",
       "                                         1                 True  ...   \n",
       "                                         2                 True  ...   \n",
       "                                         3                 True  ...   \n",
       "                                         4                 True  ...   \n",
       "\n",
       "                                                                     identifier  \\\n",
       "sha1                                     lic_det_num                              \n",
       "0463f3f27739f3fecb1e7c51130541fb213d7d29 0            lgpl-2.1-plus_newlib.RULE   \n",
       "                                         1              lead-in_unknown_11.RULE   \n",
       "                                         2              lgpl-2.1-plus_83_1.RULE   \n",
       "                                         3              lgpl-2.1-plus_83_1.RULE   \n",
       "                                         4                          lgpl_3.RULE   \n",
       "\n",
       "                                                     is_license_text_lic  \\\n",
       "sha1                                     lic_det_num                       \n",
       "0463f3f27739f3fecb1e7c51130541fb213d7d29 0                         False   \n",
       "                                         1                         False   \n",
       "                                         2                         False   \n",
       "                                         3                         False   \n",
       "                                         4                         False   \n",
       "\n",
       "                                                      is_license_notice  \\\n",
       "sha1                                     lic_det_num                      \n",
       "0463f3f27739f3fecb1e7c51130541fb213d7d29 0                         True   \n",
       "                                         1                        False   \n",
       "                                         2                        False   \n",
       "                                         3                        False   \n",
       "                                         4                        False   \n",
       "\n",
       "                                                      is_license_reference  \\\n",
       "sha1                                     lic_det_num                         \n",
       "0463f3f27739f3fecb1e7c51130541fb213d7d29 0                           False   \n",
       "                                         1                            True   \n",
       "                                         2                            True   \n",
       "                                         3                            True   \n",
       "                                         4                            True   \n",
       "\n",
       "                                                      is_license_tag  matcher  \\\n",
       "sha1                                     lic_det_num                            \n",
       "0463f3f27739f3fecb1e7c51130541fb213d7d29 0                     False    3-seq   \n",
       "                                         1                     False    2-aho   \n",
       "                                         2                     False    2-aho   \n",
       "                                         3                     False    2-aho   \n",
       "                                         4                     False    2-aho   \n",
       "\n",
       "                                                      rule_length  \\\n",
       "sha1                                     lic_det_num                \n",
       "0463f3f27739f3fecb1e7c51130541fb213d7d29 0                    128   \n",
       "                                         1                      3   \n",
       "                                         2                      6   \n",
       "                                         3                      6   \n",
       "                                         4                      7   \n",
       "\n",
       "                                                      matched_length  \\\n",
       "sha1                                     lic_det_num                   \n",
       "0463f3f27739f3fecb1e7c51130541fb213d7d29 0                        52   \n",
       "                                         1                         3   \n",
       "                                         2                         6   \n",
       "                                         3                         6   \n",
       "                                         4                         7   \n",
       "\n",
       "                                                      match_coverage  \\\n",
       "sha1                                     lic_det_num                   \n",
       "0463f3f27739f3fecb1e7c51130541fb213d7d29 0                     40.62   \n",
       "                                         1                    100.00   \n",
       "                                         2                    100.00   \n",
       "                                         3                    100.00   \n",
       "                                         4                    100.00   \n",
       "\n",
       "                                                      rule_relevance  \n",
       "sha1                                     lic_det_num                  \n",
       "0463f3f27739f3fecb1e7c51130541fb213d7d29 0                     100.0  \n",
       "                                         1                      16.0  \n",
       "                                         2                      33.0  \n",
       "                                         3                      33.0  \n",
       "                                         4                      38.0  \n",
       "\n",
       "[5 rows x 37 columns]"
      ]
     },
     "execution_count": 25,
     "metadata": {},
     "output_type": "execute_result"
    }
   ],
   "source": [
    "merged_df.head(5)"
   ]
  },
  {
   "cell_type": "markdown",
   "metadata": {},
   "source": [
    "This is returned to the `create_package_level_dataframe` function in the package level, where this happends for every row, i.e. every package. They all get merged into One main dataframe."
   ]
  }
 ],
 "metadata": {
  "kernelspec": {
   "display_name": "Python 3",
   "language": "python",
   "name": "python3"
  },
  "language_info": {
   "codemirror_mode": {
    "name": "ipython",
    "version": 3
   },
   "file_extension": ".py",
   "mimetype": "text/x-python",
   "name": "python",
   "nbconvert_exporter": "python",
   "pygments_lexer": "ipython3",
   "version": "3.6.10"
  }
 },
 "nbformat": 4,
 "nbformat_minor": 4
}
