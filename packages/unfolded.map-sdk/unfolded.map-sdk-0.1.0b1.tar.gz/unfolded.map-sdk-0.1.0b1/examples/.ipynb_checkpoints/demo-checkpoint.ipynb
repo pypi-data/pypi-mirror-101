{
 "cells": [
  {
   "cell_type": "code",
   "execution_count": 1,
   "id": "825d8a52",
   "metadata": {},
   "outputs": [],
   "source": [
    "from unfolded.map_sdk import UnfoldedMap, models"
   ]
  },
  {
   "cell_type": "code",
   "execution_count": 2,
   "id": "71d4a64a",
   "metadata": {
    "collapsed": true,
    "jupyter": {
     "outputs_hidden": true
    },
    "tags": []
   },
   "outputs": [
    {
     "data": {
      "application/vnd.jupyter.widget-view+json": {
       "model_id": "0fa37809efd6447ab5362c68d160850f",
       "version_major": 2,
       "version_minor": 0
      },
      "text/plain": [
       "UnfoldedMap(mapUUID='ae4f5345-8507-49ec-85f6-a1f8c7bc2219')"
      ]
     },
     "metadata": {},
     "output_type": "display_data"
    }
   ],
   "source": [
    "my_map = UnfoldedMap(mapUUID='ae4f5345-8507-49ec-85f6-a1f8c7bc2219')"
   ]
  },
  {
   "cell_type": "code",
   "execution_count": 3,
   "id": "4280b3e6",
   "metadata": {},
   "outputs": [],
   "source": [
    "from sidecar import Sidecar"
   ]
  },
  {
   "cell_type": "code",
   "execution_count": 5,
   "id": "dd009cbc",
   "metadata": {},
   "outputs": [],
   "source": [
    "sc = Sidecar(title='test unfolded')\n",
    "\n",
    "with sc:\n",
    "    display(my_map)"
   ]
  },
  {
   "cell_type": "code",
   "execution_count": 3,
   "id": "a5f15211",
   "metadata": {},
   "outputs": [],
   "source": [
    "layers_future = my_map.get_layers()"
   ]
  },
  {
   "cell_type": "code",
   "execution_count": 4,
   "id": "e8a9fee7",
   "metadata": {},
   "outputs": [],
   "source": [
    "layer = layers_future.result()[0]"
   ]
  },
  {
   "cell_type": "code",
   "execution_count": 5,
   "id": "4f8e1408",
   "metadata": {},
   "outputs": [
    {
     "data": {
      "text/plain": [
       "<Future pending>"
      ]
     },
     "execution_count": 5,
     "metadata": {},
     "output_type": "execute_result"
    }
   ],
   "source": [
    "# Hide layer\n",
    "my_map.set_layer_visibility(layer_id=layer.id, is_visible=False)"
   ]
  },
  {
   "cell_type": "code",
   "execution_count": 6,
   "id": "16062c68",
   "metadata": {},
   "outputs": [
    {
     "data": {
      "text/plain": [
       "<Future pending>"
      ]
     },
     "execution_count": 6,
     "metadata": {},
     "output_type": "execute_result"
    }
   ],
   "source": [
    "# Show layer again\n",
    "my_map.set_layer_visibility(layer_id=layer.id, is_visible=True)"
   ]
  },
  {
   "cell_type": "code",
   "execution_count": 12,
   "id": "d8ee3bc7",
   "metadata": {},
   "outputs": [
    {
     "data": {
      "text/plain": [
       "<Future pending>"
      ]
     },
     "execution_count": 12,
     "metadata": {},
     "output_type": "execute_result"
    }
   ],
   "source": [
    "# Set view state\n",
    "view_state = models.ViewState(longitude=1, latitude=51, zoom=4)\n",
    "my_map.set_view_state(view_state)"
   ]
  },
  {
   "cell_type": "code",
   "execution_count": 13,
   "id": "a020744e",
   "metadata": {},
   "outputs": [],
   "source": [
    "# Set map theme\n",
    "my_map.set_theme('light')"
   ]
  },
  {
   "cell_type": "code",
   "execution_count": 14,
   "id": "92bc9a0c",
   "metadata": {},
   "outputs": [],
   "source": [
    "my_map.set_theme('dark')"
   ]
  },
  {
   "cell_type": "code",
   "execution_count": null,
   "id": "d6d2666c",
   "metadata": {},
   "outputs": [],
   "source": []
  }
 ],
 "metadata": {
  "kernelspec": {
   "display_name": "Python 3",
   "language": "python",
   "name": "python3"
  },
  "language_info": {
   "codemirror_mode": {
    "name": "ipython",
    "version": 3
   },
   "file_extension": ".py",
   "mimetype": "text/x-python",
   "name": "python",
   "nbconvert_exporter": "python",
   "pygments_lexer": "ipython3",
   "version": "3.8.3"
  }
 },
 "nbformat": 4,
 "nbformat_minor": 5
}
