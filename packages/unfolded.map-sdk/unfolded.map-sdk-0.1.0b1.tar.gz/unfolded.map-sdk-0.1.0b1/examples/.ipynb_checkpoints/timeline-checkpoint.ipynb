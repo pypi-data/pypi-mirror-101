{
 "cells": [
  {
   "cell_type": "code",
   "execution_count": 4,
   "id": "b06d88b1",
   "metadata": {},
   "outputs": [],
   "source": [
    "from unfolded.map_sdk import UnfoldedMapSDK, models"
   ]
  },
  {
   "cell_type": "code",
   "execution_count": 5,
   "id": "a449bd78",
   "metadata": {
    "tags": []
   },
   "outputs": [
    {
     "data": {
      "application/vnd.jupyter.widget-view+json": {
       "model_id": "db8d020a05594dd7a3d4846b49b07b56",
       "version_major": 2,
       "version_minor": 0
      },
      "text/plain": [
       "UnfoldedMapSDK(mapUrl='https://studio.unfolded.ai/public/4883beab-e8db-42e0-8a66-7093eea255f4')"
      ]
     },
     "metadata": {},
     "output_type": "display_data"
    }
   ],
   "source": [
    "my_map=UnfoldedMapSDK(mapUrl='https://studio.unfolded.ai/public/4883beab-e8db-42e0-8a66-7093eea255f4')\n",
    "my_map"
   ]
  },
  {
   "cell_type": "code",
   "execution_count": 6,
   "id": "722d91ea",
   "metadata": {},
   "outputs": [],
   "source": [
    "timeline_config = models.LayerTimelineConfig(\n",
    "    current_time=1567557949266.6873,\n",
    "    is_visible=True,\n",
    "    is_animating=True,\n",
    "    speed=1,\n",
    ")"
   ]
  },
  {
   "cell_type": "code",
   "execution_count": 7,
   "id": "4db4cf49",
   "metadata": {},
   "outputs": [],
   "source": [
    "# Start animation\n",
    "my_map.set_layer_timeline_config(timeline_config)"
   ]
  },
  {
   "cell_type": "code",
   "execution_count": 8,
   "id": "33f9e9ab",
   "metadata": {},
   "outputs": [],
   "source": [
    "# Set to 2x speed\n",
    "timeline_config.speed = 2\n",
    "my_map.set_layer_timeline_config(timeline_config)"
   ]
  },
  {
   "cell_type": "code",
   "execution_count": 9,
   "id": "43d53b5f",
   "metadata": {},
   "outputs": [],
   "source": [
    "# Hide timeline control\n",
    "timeline_config.is_visible = False\n",
    "my_map.set_layer_timeline_config(timeline_config)"
   ]
  },
  {
   "cell_type": "code",
   "execution_count": 10,
   "id": "93af4384",
   "metadata": {},
   "outputs": [],
   "source": [
    "# Reset control and stop animation\n",
    "timeline_config.is_visible = True\n",
    "timeline_config.is_animating = False\n",
    "my_map.set_layer_timeline_config(timeline_config)"
   ]
  },
  {
   "cell_type": "code",
   "execution_count": null,
   "id": "573a52e2",
   "metadata": {},
   "outputs": [],
   "source": []
  }
 ],
 "metadata": {
  "kernelspec": {
   "display_name": "Python 3",
   "language": "python",
   "name": "python3"
  },
  "language_info": {
   "codemirror_mode": {
    "name": "ipython",
    "version": 3
   },
   "file_extension": ".py",
   "mimetype": "text/x-python",
   "name": "python",
   "nbconvert_exporter": "python",
   "pygments_lexer": "ipython3",
   "version": "3.8.3"
  }
 },
 "nbformat": 4,
 "nbformat_minor": 5
}
