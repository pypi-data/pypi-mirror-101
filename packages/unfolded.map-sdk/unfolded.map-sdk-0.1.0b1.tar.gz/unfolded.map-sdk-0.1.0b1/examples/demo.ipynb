{
 "cells": [
  {
   "cell_type": "code",
   "execution_count": 1,
   "id": "23404291",
   "metadata": {},
   "outputs": [],
   "source": [
    "from unfolded.map_sdk import UnfoldedMap, models\n",
    "from sidecar import Sidecar"
   ]
  },
  {
   "cell_type": "code",
   "execution_count": 2,
   "id": "d5e5b8e2",
   "metadata": {
    "tags": []
   },
   "outputs": [],
   "source": [
    "my_map = UnfoldedMap(mapUUID='ae4f5345-8507-49ec-85f6-a1f8c7bc2219')"
   ]
  },
  {
   "cell_type": "code",
   "execution_count": 3,
   "id": "a86b4dbb",
   "metadata": {},
   "outputs": [],
   "source": [
    "sc = Sidecar(title='test unfolded')\n",
    "\n",
    "with sc:\n",
    "    display(my_map)"
   ]
  },
  {
   "cell_type": "code",
   "execution_count": 4,
   "id": "608c62bf",
   "metadata": {},
   "outputs": [],
   "source": [
    "layers_future = my_map.get_layers()"
   ]
  },
  {
   "cell_type": "code",
   "execution_count": 5,
   "id": "8eaee8de",
   "metadata": {},
   "outputs": [],
   "source": [
    "layer = layers_future.result()[0]"
   ]
  },
  {
   "cell_type": "code",
   "execution_count": 6,
   "id": "04011880",
   "metadata": {},
   "outputs": [
    {
     "data": {
      "text/plain": [
       "Layer(label='Point', id='25smxo6', is_visible=True)"
      ]
     },
     "execution_count": 6,
     "metadata": {},
     "output_type": "execute_result"
    }
   ],
   "source": [
    "layer"
   ]
  },
  {
   "cell_type": "code",
   "execution_count": null,
   "id": "c397569f",
   "metadata": {},
   "outputs": [],
   "source": []
  },
  {
   "cell_type": "code",
   "execution_count": 5,
   "id": "47de805c",
   "metadata": {},
   "outputs": [
    {
     "data": {
      "text/plain": [
       "<Future pending>"
      ]
     },
     "execution_count": 5,
     "metadata": {},
     "output_type": "execute_result"
    }
   ],
   "source": [
    "# Hide layer\n",
    "my_map.set_layer_visibility(layer_id=layer.id, is_visible=False)"
   ]
  },
  {
   "cell_type": "code",
   "execution_count": 6,
   "id": "b1a1c78b",
   "metadata": {},
   "outputs": [
    {
     "data": {
      "text/plain": [
       "<Future pending>"
      ]
     },
     "execution_count": 6,
     "metadata": {},
     "output_type": "execute_result"
    }
   ],
   "source": [
    "# Show layer again\n",
    "my_map.set_layer_visibility(layer_id=layer.id, is_visible=True)"
   ]
  },
  {
   "cell_type": "code",
   "execution_count": 7,
   "id": "d776f5a7",
   "metadata": {},
   "outputs": [
    {
     "data": {
      "text/plain": [
       "<Future pending>"
      ]
     },
     "execution_count": 7,
     "metadata": {},
     "output_type": "execute_result"
    }
   ],
   "source": [
    "# Set view state\n",
    "view_state = models.ViewState(longitude=1, latitude=51, zoom=4)\n",
    "my_map.set_view_state(view_state)"
   ]
  },
  {
   "cell_type": "code",
   "execution_count": 13,
   "id": "9f382c7e",
   "metadata": {},
   "outputs": [],
   "source": [
    "# Set map theme\n",
    "my_map.set_theme('light')"
   ]
  },
  {
   "cell_type": "code",
   "execution_count": 14,
   "id": "9e69b61c",
   "metadata": {},
   "outputs": [],
   "source": [
    "my_map.set_theme('dark')"
   ]
  },
  {
   "cell_type": "code",
   "execution_count": null,
   "id": "9ce0d099",
   "metadata": {},
   "outputs": [],
   "source": []
  }
 ],
 "metadata": {
  "kernelspec": {
   "display_name": "Python 3",
   "language": "python",
   "name": "python3"
  },
  "language_info": {
   "codemirror_mode": {
    "name": "ipython",
    "version": 3
   },
   "file_extension": ".py",
   "mimetype": "text/x-python",
   "name": "python",
   "nbconvert_exporter": "python",
   "pygments_lexer": "ipython3",
   "version": "3.8.3"
  }
 },
 "nbformat": 4,
 "nbformat_minor": 5
}
