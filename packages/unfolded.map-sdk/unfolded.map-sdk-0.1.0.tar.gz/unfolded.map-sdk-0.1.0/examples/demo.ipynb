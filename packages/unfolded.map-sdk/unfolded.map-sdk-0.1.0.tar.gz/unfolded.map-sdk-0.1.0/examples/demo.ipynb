{
 "cells": [
  {
   "cell_type": "code",
   "execution_count": 1,
   "id": "8c8ff01e",
   "metadata": {},
   "outputs": [],
   "source": [
    "from unfolded.map_sdk import UnfoldedMap, models\n",
    "from sidecar import Sidecar"
   ]
  },
  {
   "cell_type": "code",
   "execution_count": 2,
   "id": "35f16b47",
   "metadata": {
    "tags": []
   },
   "outputs": [],
   "source": [
    "my_map = UnfoldedMap(mapUUID='ae4f5345-8507-49ec-85f6-a1f8c7bc2219')"
   ]
  },
  {
   "cell_type": "code",
   "execution_count": 3,
   "id": "8f527ae3",
   "metadata": {},
   "outputs": [
    {
     "data": {
      "application/vnd.jupyter.widget-view+json": {
       "model_id": "15094c9ccfd842eabb3a3167e8fec4cb",
       "version_major": 2,
       "version_minor": 0
      },
      "text/plain": [
       "UnfoldedMap(mapUUID='ae4f5345-8507-49ec-85f6-a1f8c7bc2219')"
      ]
     },
     "metadata": {},
     "output_type": "display_data"
    }
   ],
   "source": [
    "my_map"
   ]
  },
  {
   "cell_type": "code",
   "execution_count": 3,
   "id": "29bd84eb",
   "metadata": {},
   "outputs": [],
   "source": [
    "sc = Sidecar(title='test unfolded')\n",
    "\n",
    "with sc:\n",
    "    display(my_map)"
   ]
  },
  {
   "cell_type": "code",
   "execution_count": 4,
   "id": "cbbbe021",
   "metadata": {},
   "outputs": [],
   "source": [
    "layers_future = my_map.get_layers()"
   ]
  },
  {
   "cell_type": "code",
   "execution_count": 5,
   "id": "dba522e8",
   "metadata": {},
   "outputs": [],
   "source": [
    "layer = layers_future.result()[0]"
   ]
  },
  {
   "cell_type": "code",
   "execution_count": 6,
   "id": "3d344fc2",
   "metadata": {},
   "outputs": [
    {
     "data": {
      "text/plain": [
       "Layer(label='Point', id='25smxo6', is_visible=True)"
      ]
     },
     "execution_count": 6,
     "metadata": {},
     "output_type": "execute_result"
    }
   ],
   "source": [
    "layer"
   ]
  },
  {
   "cell_type": "code",
   "execution_count": null,
   "id": "3efd33d3",
   "metadata": {},
   "outputs": [],
   "source": []
  },
  {
   "cell_type": "code",
   "execution_count": 5,
   "id": "962ab5c8",
   "metadata": {},
   "outputs": [
    {
     "data": {
      "text/plain": [
       "<Future pending>"
      ]
     },
     "execution_count": 5,
     "metadata": {},
     "output_type": "execute_result"
    }
   ],
   "source": [
    "# Hide layer\n",
    "my_map.set_layer_visibility(layer_id=layer.id, is_visible=False)"
   ]
  },
  {
   "cell_type": "code",
   "execution_count": 6,
   "id": "871b258b",
   "metadata": {},
   "outputs": [
    {
     "data": {
      "text/plain": [
       "<Future pending>"
      ]
     },
     "execution_count": 6,
     "metadata": {},
     "output_type": "execute_result"
    }
   ],
   "source": [
    "# Show layer again\n",
    "my_map.set_layer_visibility(layer_id=layer.id, is_visible=True)"
   ]
  },
  {
   "cell_type": "code",
   "execution_count": 7,
   "id": "4b180042",
   "metadata": {},
   "outputs": [
    {
     "data": {
      "text/plain": [
       "<Future pending>"
      ]
     },
     "execution_count": 7,
     "metadata": {},
     "output_type": "execute_result"
    }
   ],
   "source": [
    "# Set view state\n",
    "view_state = models.ViewState(longitude=1, latitude=51, zoom=4)\n",
    "my_map.set_view_state(view_state)"
   ]
  },
  {
   "cell_type": "code",
   "execution_count": 13,
   "id": "fce5de3b",
   "metadata": {},
   "outputs": [],
   "source": [
    "# Set map theme\n",
    "my_map.set_theme('light')"
   ]
  },
  {
   "cell_type": "code",
   "execution_count": 14,
   "id": "f995ec0d",
   "metadata": {},
   "outputs": [],
   "source": [
    "my_map.set_theme('dark')"
   ]
  },
  {
   "cell_type": "code",
   "execution_count": null,
   "id": "57c39bc1",
   "metadata": {},
   "outputs": [],
   "source": []
  }
 ],
 "metadata": {
  "kernelspec": {
   "display_name": "Python 3",
   "language": "python",
   "name": "python3"
  },
  "language_info": {
   "codemirror_mode": {
    "name": "ipython",
    "version": 3
   },
   "file_extension": ".py",
   "mimetype": "text/x-python",
   "name": "python",
   "nbconvert_exporter": "python",
   "pygments_lexer": "ipython3",
   "version": "3.8.3"
  }
 },
 "nbformat": 4,
 "nbformat_minor": 5
}
