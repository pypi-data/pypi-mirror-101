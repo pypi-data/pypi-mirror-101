{
 "cells": [
  {
   "cell_type": "markdown",
   "metadata": {},
   "source": [
    "# Xarray-spatial\n",
    "### User Guide: Focal\n",
    "\n",
    "#### Use datashader to render our images..."
   ]
  },
  {
   "cell_type": "code",
   "execution_count": null,
   "metadata": {},
   "outputs": [],
   "source": [
    "import numpy as np\n",
    "import datashader as ds\n",
    "from datashader.transfer_functions import shade\n",
    "from datashader.transfer_functions import stack\n",
    "from datashader.transfer_functions import dynspread\n",
    "from datashader.transfer_functions import set_background\n",
    "from datashader.colors import Elevation\n",
    "\n",
    "import xrspatial"
   ]
  },
  {
   "cell_type": "markdown",
   "metadata": {},
   "source": [
    "## Generate Terrain Data\n",
    "\n",
    "The rest of the geo-related functions focus on raster data (or rasterized data, after a previous Datashader step that returns an Xarray object). To demonstrate using these raster-based functions, let's generate some fake terrain as an elevation raster:"
   ]
  },
  {
   "cell_type": "code",
   "execution_count": null,
   "metadata": {},
   "outputs": [],
   "source": [
    "from xrspatial import generate_terrain\n",
    "\n",
    "W = 800\n",
    "H = 600\n",
    "\n",
    "cvs = ds.Canvas(plot_width=W, plot_height=H, x_range=(-20e6, 20e6), y_range=(-20e6, 20e6))\n",
    "terrain = generate_terrain(canvas=cvs)\n",
    "\n",
    "shade(terrain, cmap=['black', 'white'], how='linear')"
   ]
  },
  {
   "cell_type": "markdown",
   "metadata": {},
   "source": [
    "The grayscale value above shows the elevation linearly in intensity (with the large black areas indicating low elevation), but it will look more like a landscape if we map the lowest values to colors representing water, and the highest to colors representing mountaintops:"
   ]
  },
  {
   "cell_type": "code",
   "execution_count": null,
   "metadata": {},
   "outputs": [],
   "source": [
    "from xrspatial import hillshade\n",
    "from datashader.colors import Set1\n",
    "import pandas as pd\n",
    "\n",
    "cvs = ds.Canvas(plot_width=W, plot_height=H, x_range=(-20, 20), y_range=(-20, 20))\n",
    "\n",
    "terrain = generate_terrain(canvas=cvs)\n",
    "terrain_shaded = shade(terrain, cmap=Elevation, alpha=128, how='linear')\n",
    "\n",
    "illuminated = hillshade(terrain)\n",
    "illuminated_shaded = shade(illuminated, cmap=['gray', 'white'], alpha=255, how='linear')\n",
    "\n",
    "stack(illuminated_shaded, terrain_shaded)"
   ]
  },
  {
   "cell_type": "markdown",
   "metadata": {},
   "source": [
    "## Focal Statistics and Convolutions\n",
    "\n",
    "Similar to zonal statistics, focal statistics are used to calculate local statistics, but relative to a _focal_ point and a given neighborhood. The neighborhood is a user-defined kernel representing the cells which should be used in calculations. Currently, only circle and annulus kernels are implemented, but any custom kernel can be used given that:\n",
    "- The kernel is a `numpy` array\n",
    "- The kernel's dimensions are odd, so a `3x1` kernel is valid while a `3x2` is not. This is required for symmetry around the focal point in the current implementation.\n",
    "\n",
    "The following example uses focal statistics to calculate the [toposiition position index (TPI)](http://www.jennessent.com/downloads/tpi-poster-tnc_18x22.pdf), which is a measure of local topographic position relative to its nearby neighbors. The TPI is scale dependent and will vary based on the inner and outer radii chosen for the annulus kernel. Once calculated, the TPI can be used to classify slope positions and landforms within landscapes, and can also be used as a numeric feature for model inputs."
   ]
  },
  {
   "cell_type": "code",
   "execution_count": null,
   "metadata": {},
   "outputs": [],
   "source": [
    "from xrspatial import focal\n",
    "\n",
    "cellsize_x, cellsize_y = focal.calc_cellsize(terrain)\n",
    "# Use an annulus kernel with a ring at a distance from 25-30 cells away from focal point\n",
    "outer_radius = cellsize_x * 30\n",
    "inner_radius = cellsize_x * 25\n",
    "kernel = focal.annulus_kernel(cellsize_x, cellsize_y, outer_radius, inner_radius)\n",
    "tpi = terrain - focal.apply(terrain, kernel)\n",
    "tpi_terrain = hillshade(terrain - focal.apply(terrain, kernel))\n",
    "tpi_terrain_shaded = shade(\n",
    "    tpi_terrain, cmap=[\"white\", \"black\"], alpha=255, how=\"linear\"\n",
    ")\n",
    "stack(illuminated_shaded, tpi_terrain_shaded)"
   ]
  },
  {
   "cell_type": "markdown",
   "metadata": {},
   "source": [
    "### Convolutions\n",
    "\n",
    "The `focal.apply` function can be expensive depending on the size of the kernal and image. Additionally, we'd like to extend the ability to use custom convolution kernels on the raster. For example, we may want to apply some [kernels from image processing](https://en.wikipedia.org/wiki/Kernel_(image_processing)). Below we'll use the horizontal [Sobel operator](https://en.wikipedia.org/wiki/Sobel_operator), which is an approximation of the derivative in the horizontal dimension.\n",
    "\n",
    "By default, the `convolution` module will use the local CUDA-enabled GPU unit, if available. To always use the CPU you can pass `use_cuda=False` to `convolution.convolve_2d`."
   ]
  },
  {
   "cell_type": "code",
   "execution_count": null,
   "metadata": {},
   "outputs": [],
   "source": [
    "from xrspatial import convolution\n",
    "from xarray import DataArray\n",
    "\n",
    "# Use Sobel operator\n",
    "kernel = np.array([[1, 0, -1], [2, 0, -2], [1, 0, -1]])\n",
    "display(kernel)\n",
    "sobel = DataArray(\n",
    "    convolution.convolve_2d(terrain.values, kernel),\n",
    "    coords=terrain.coords,\n",
    "    dims=terrain.dims,\n",
    "    attrs=terrain.attrs,\n",
    ")\n",
    "sobel_terrain = hillshade(sobel)\n",
    "sobel_terrain_shaded = shade(\n",
    "    sobel_terrain, cmap=[\"white\", \"black\"], alpha=255, how=\"linear\"\n",
    ")\n",
    "stack(illuminated_shaded, sobel_terrain_shaded)"
   ]
  }
 ],
 "metadata": {
  "language_info": {
   "name": "python"
  }
 },
 "nbformat": 4,
 "nbformat_minor": 2
}
