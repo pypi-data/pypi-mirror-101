{
 "cells": [
  {
   "cell_type": "markdown",
   "metadata": {},
   "source": [
    "# Inference on time-variable stars"
   ]
  },
  {
   "cell_type": "markdown",
   "metadata": {},
   "source": [
    "In this tutorial we'll show how to infer spot properties from a star whose spots evolve in time. Check out the\n",
    "[ensemble tutorial](Ensemble.ipynb) for a bit more information on how we're doing our analysis here."
   ]
  },
  {
   "cell_type": "code",
   "execution_count": null,
   "metadata": {
    "tags": [
     "hide_input"
    ]
   },
   "outputs": [],
   "source": [
    "try:\n",
    "    from IPython import get_ipython\n",
    "\n",
    "    get_ipython().run_line_magic(\"run\", \"notebook_config.py\")\n",
    "except:\n",
    "    import warnings\n",
    "\n",
    "    warnings.warn(\"Can't execute `notebook_config.py`.\")\n",
    "from IPython.display import display, Markdown\n",
    "from starry_process.defaults import defaults"
   ]
  },
  {
   "cell_type": "markdown",
   "metadata": {},
   "source": [
    "## Generate"
   ]
  },
  {
   "cell_type": "markdown",
   "metadata": {},
   "source": [
    "Let's generate a synthetic light curve of a star with the following properties:"
   ]
  },
  {
   "cell_type": "code",
   "execution_count": null,
   "metadata": {},
   "outputs": [],
   "source": [
    "truths = dict(\n",
    "    r=15.0,\n",
    "    mu=30.0,\n",
    "    sigma=5.0,\n",
    "    c=0.05,\n",
    "    n=20,\n",
    "    tau=3.0,\n",
    "    p=1.123,\n",
    "    i=65.0,\n",
    "    u=[0.0, 0.0],\n",
    "    ferr=1e-3,\n",
    ")\n",
    "npts = 1500\n",
    "tmax = 300.0\n",
    "\n",
    "# Things we're solving for\n",
    "varnames = [\"r\", \"mu\", \"sigma\", \"c\", \"n\", \"i\", \"p\", \"tau\"]"
   ]
  },
  {
   "cell_type": "code",
   "execution_count": null,
   "metadata": {
    "tags": [
     "hide_input"
    ]
   },
   "outputs": [],
   "source": [
    "display(\n",
    "    Markdown(\n",
    "        \"\"\"\n",
    "| parameter | description | true value\n",
    "| - | :- | :-:\n",
    "| `r` | mean radius in degrees | `{r}`\n",
    "| `mu` | latitude distribution mode in degrees | `{mu}`\n",
    "| `sigma` | latitude distribution standard deviation in degrees | `{sigma}`\n",
    "| `c` | fractional spot contrast | `{c}`\n",
    "| `n` | number of spots | `{n}`\n",
    "| `i` | stellar inclination in degrees | `{i}`\n",
    "| `p` | stellar rotation period in days | `{p}`\n",
    "| `tau` | spot evolution timescale in days | `{tau}`\n",
    "| `u` | limb darkening coefficients | `{u}`\n",
    "| `ferr` | photometric uncertainty (fractional) | `{ferr}`\n",
    "| `npts` | number of points in light curve | `{npts}`\n",
    "| `tmax` | length of light curve in days | `{tmax}`\n",
    "\"\"\".format(\n",
    "            **truths, npts=npts, tmax=tmax\n",
    "        )\n",
    "    )\n",
    ")"
   ]
  },
  {
   "cell_type": "markdown",
   "metadata": {},
   "source": [
    "We will generate the light curve using a time-variable ``StarryProcess``. If we were being rigorous about this, we should generate it from an actual forward model of a time-variable stellar surface. But that's beyond the scope of this simple tutorial. Our goal here is to show that the light curve of a single star can encode most of the information we're interested in if we observe it over many spot evolution timescales. This is something that cannot be done for a star with a static surface! The time variability is actually giving us *lots* of information about the covariance in the modes we're able to probe at the particular inclination we see the star at."
   ]
  },
  {
   "cell_type": "code",
   "execution_count": null,
   "metadata": {},
   "outputs": [],
   "source": [
    "from starry_process import StarryProcess\n",
    "import numpy as np\n",
    "\n",
    "t = np.linspace(0, tmax, npts)\n",
    "sp = StarryProcess(**truths, marginalize_over_inclination=False)\n",
    "flux0 = sp.sample(t, p=truths[\"p\"], i=truths[\"i\"], u=truths[\"u\"]).eval()\n",
    "flux = flux0 + truths[\"ferr\"] * np.random.randn(*flux0.shape)"
   ]
  },
  {
   "cell_type": "markdown",
   "metadata": {},
   "source": [
    "Here's what our light curve looks like over all `300` days, as well as over the first and last `30` day segments:"
   ]
  },
  {
   "cell_type": "code",
   "execution_count": null,
   "metadata": {},
   "outputs": [],
   "source": [
    "import matplotlib.pyplot as plt\n",
    "\n",
    "\n",
    "fig = plt.figure(figsize=(12, 6))\n",
    "fig.subplots_adjust(hspace=0.4, wspace=0.3)\n",
    "ax = [\n",
    "    plt.subplot2grid((2, 2), (0, 0), colspan=2),\n",
    "    plt.subplot2grid((2, 2), (1, 0)),\n",
    "    plt.subplot2grid((2, 2), (1, 1)),\n",
    "]\n",
    "for axis in ax:\n",
    "    axis.plot(t, 1e3 * flux0[0], \"C0-\", lw=1, alpha=0.5)\n",
    "    axis.plot(t, 1e3 * flux[0], \"k.\", ms=2)\n",
    "    axis.set_ylabel(\"flux [ppt]\")\n",
    "    axis.set_xlabel(\"time [days]\")\n",
    "    axis.set_ylim(-55, 55)\n",
    "ax[0].set_title(\"full light curve\", fontsize=10)\n",
    "ax[1].set_title(\"first 30 days\", fontsize=10)\n",
    "ax[2].set_title(\"last 30 days\", fontsize=10)\n",
    "ax[1].set_xlim(0, 30)\n",
    "ax[2].set_xlim(270, 300)\n",
    "plt.show()"
   ]
  },
  {
   "cell_type": "markdown",
   "metadata": {},
   "source": [
    "## Inference"
   ]
  },
  {
   "cell_type": "markdown",
   "metadata": {},
   "source": [
    "Let's set up a simple probabilistic model using `pymc3` to infer the spot properties of this star. We'll place uninformative priors on everything, including the period, timescale, and inclination. For simplicity, let's assume we know the limb darkening coefficients (which are zero in this case)."
   ]
  },
  {
   "cell_type": "raw",
   "metadata": {
    "raw_mimetype": "text/restructuredtext"
   },
   "source": [
    ".. note::\n",
    "\n",
    "    Note that we are passing ``marginalize_over_inclination=False`` when instatiating our\n",
    "    ``StarryProcess``. That's because we want to actually fit for the inclination of this\n",
    "    star. Marginalizing over the inclination is useful when we're analyzing a large\n",
    "    ensemble of stars and don't want to model the inclinations of every single one of\n",
    "    them (which usually makes sampling trickier and slower)."
   ]
  },
  {
   "cell_type": "code",
   "execution_count": null,
   "metadata": {},
   "outputs": [],
   "source": [
    "import pymc3 as pm\n",
    "import theano.tensor as tt\n",
    "\n",
    "\n",
    "with pm.Model() as model:\n",
    "\n",
    "    # Things we know\n",
    "    u = truths[\"u\"]\n",
    "    ferr = truths[\"ferr\"]\n",
    "\n",
    "    # Spot latitude params. Isotropic prior on the mode\n",
    "    # and uniform prior on the standard deviation\n",
    "    unif0 = pm.Uniform(\"unif0\", 0.0, 1.0)\n",
    "    mu = 90 - tt.arccos(unif0) * 180 / np.pi\n",
    "    pm.Deterministic(\"mu\", mu)\n",
    "    sigma = pm.Uniform(\"sigma\", 1.0, 20.0)\n",
    "\n",
    "    # Spot radius (uniform prior)\n",
    "    r = pm.Uniform(\"r\", 10.0, 30.0)\n",
    "\n",
    "    # Spot contrast & number of spots (uniform prior)\n",
    "    c = pm.Uniform(\"c\", 0.0, 0.5, testval=0.1)\n",
    "    n = pm.Uniform(\"n\", 1.0, 30.0, testval=5)\n",
    "\n",
    "    # Inclination (isotropic prior)\n",
    "    unif1 = pm.Uniform(\"unif1\", 0.0, 1.0)\n",
    "    i = tt.arccos(unif1) * 180 / np.pi\n",
    "    pm.Deterministic(\"i\", i)\n",
    "\n",
    "    # Period (uniform prior)\n",
    "    p = pm.Uniform(\"p\", 0.75, 1.25)\n",
    "\n",
    "    # Variability timescale (uniform prior)\n",
    "    tau = pm.Uniform(\"tau\", 0.1, 10.0)\n",
    "\n",
    "    # Instantiate the GP\n",
    "    sp = StarryProcess(\n",
    "        r=r, mu=mu, sigma=sigma, c=c, n=n, tau=tau, marginalize_over_inclination=False\n",
    "    )\n",
    "\n",
    "    # Compute the log likelihood\n",
    "    lnlike = sp.log_likelihood(t, flux, ferr ** 2, p=p, i=i, u=u)\n",
    "    pm.Potential(\"lnlike\", lnlike)"
   ]
  },
  {
   "cell_type": "markdown",
   "metadata": {},
   "source": [
    "As we discussed in [this tutorial](Ensemble.ipynb), it can be very difficult to sample the posterior for a ``StarryProcess`` problem using Hamiltonian Monte Carlo. It's often much easier to use regular old-fashioned MCMC,\n",
    "which we can easily due via the ``MCMCInterface`` class:"
   ]
  },
  {
   "cell_type": "code",
   "execution_count": null,
   "metadata": {},
   "outputs": [],
   "source": [
    "from starry_process import MCMCInterface\n",
    "\n",
    "with model:\n",
    "    mci = MCMCInterface()"
   ]
  },
  {
   "cell_type": "markdown",
   "metadata": {},
   "source": [
    "Let's run the optimizer to find the maximum a posteriori (MAP) solution:"
   ]
  },
  {
   "cell_type": "code",
   "execution_count": null,
   "metadata": {},
   "outputs": [],
   "source": [
    "x = mci.optimize()"
   ]
  },
  {
   "cell_type": "markdown",
   "metadata": {},
   "source": [
    "Recall that we need to transform the solution from the internal parametrization to our desired parametrization (in terms of the spot radius, spot latitude, etc.):"
   ]
  },
  {
   "cell_type": "code",
   "execution_count": null,
   "metadata": {},
   "outputs": [],
   "source": [
    "map_soln = mci.transform(x, varnames=varnames)"
   ]
  },
  {
   "cell_type": "code",
   "execution_count": null,
   "metadata": {
    "tags": [
     "hide_input"
    ]
   },
   "outputs": [],
   "source": [
    "display(\n",
    "    Markdown(\n",
    "        \"\"\"\n",
    "| parameter | description | true value | MAP value\n",
    "| - | :- | :-: | :-:\n",
    "| `r` | mean radius in degrees | `{r}` | `{{:.2f}}` \n",
    "| `mu` | latitude distribution mode in degrees | `{mu}`| `{{:.2f}}` \n",
    "| `sigma` | latitude distribution standard deviation in degrees | `{sigma}`| `{{:.2f}}` \n",
    "| `c` | fractional spot contrast | `{c}`| `{{:.4f}}` \n",
    "| `n` | number of spots | `{n}`| `{{:.2f}}` \n",
    "| `i` | stellar inclination in degrees | `{i}`| `{{:.2f}}` \n",
    "| `p` | stellar rotation period in days | `{p}`| `{{:.2f}}` \n",
    "| `tau` | spot evolution timescale in days | `{tau}`| `{{:.2f}}` \n",
    "\"\"\".format(\n",
    "            **truths\n",
    "        ).format(\n",
    "            *map_soln\n",
    "        )\n",
    "    )\n",
    ")"
   ]
  },
  {
   "cell_type": "markdown",
   "metadata": {},
   "source": [
    "Not bad! It looks like we correctly estimated several of the properties of interest! We still don't have any sense of the uncertainty on these quantities; for that, we need to actually run the MCMC sampler."
   ]
  },
  {
   "cell_type": "code",
   "execution_count": null,
   "metadata": {},
   "outputs": [],
   "source": [
    "nwalkers = 30\n",
    "p0 = mci.get_initial_state(nwalkers)"
   ]
  },
  {
   "cell_type": "raw",
   "metadata": {
    "raw_mimetype": "text/restructuredtext"
   },
   "source": [
    ".. note::\n",
    "\n",
    "    Since we're running this example on GitHub Actions, we'll only run the chain for ``1000`` steps, so it won't be converged. You should run it for much, much longer if you can!"
   ]
  },
  {
   "cell_type": "code",
   "execution_count": null,
   "metadata": {},
   "outputs": [],
   "source": [
    "import emcee\n",
    "\n",
    "# Number of parameters\n",
    "ndim = p0.shape[1]\n",
    "\n",
    "# Instantiate the sampler\n",
    "sampler = emcee.EnsembleSampler(nwalkers, ndim, mci.logp)\n",
    "\n",
    "# Run the chains\n",
    "np.random.seed(0)\n",
    "nsteps = 1000\n",
    "_ = sampler.run_mcmc(p0, nsteps, progress=True)"
   ]
  },
  {
   "cell_type": "markdown",
   "metadata": {},
   "source": [
    "Let's plot the chains:"
   ]
  },
  {
   "cell_type": "code",
   "execution_count": null,
   "metadata": {},
   "outputs": [],
   "source": [
    "# Plot the walkers\n",
    "fig, ax = plt.subplots(ndim, figsize=(8, 12), sharex=True)\n",
    "for j in range(ndim):\n",
    "    for k in range(nwalkers):\n",
    "        ax[j].plot(sampler.chain[k, :, j], \"C0-\", lw=1, alpha=0.3)\n",
    "    ax[j].set_ylabel(\"param {}\".format(j + 1))\n",
    "ax[-1].set_xlabel(\"iteration\")\n",
    "fig.align_ylabels(ax)\n",
    "plt.show()"
   ]
  },
  {
   "cell_type": "markdown",
   "metadata": {},
   "source": [
    "Remove some burn-in and flatten the samples:"
   ]
  },
  {
   "cell_type": "code",
   "execution_count": null,
   "metadata": {},
   "outputs": [],
   "source": [
    "burnin = 200\n",
    "samples = sampler.chain[:, burnin:, :].reshape(-1, ndim)"
   ]
  },
  {
   "cell_type": "markdown",
   "metadata": {},
   "source": [
    "Transform to our parametrization:"
   ]
  },
  {
   "cell_type": "code",
   "execution_count": null,
   "metadata": {},
   "outputs": [],
   "source": [
    "samples = mci.transform(samples, varnames=varnames)"
   ]
  },
  {
   "cell_type": "markdown",
   "metadata": {},
   "source": [
    "Visualize the posteriors, with the true values in orange:"
   ]
  },
  {
   "cell_type": "code",
   "execution_count": null,
   "metadata": {},
   "outputs": [],
   "source": [
    "from corner import corner\n",
    "\n",
    "corner(\n",
    "    samples,\n",
    "    labels=varnames,\n",
    "    truths=[truths[name] for name in varnames],\n",
    "    range=(\n",
    "        (10, 30),\n",
    "        (0, 90),\n",
    "        (1, 20),\n",
    "        (0, 0.5),\n",
    "        (1, 30),\n",
    "        (0, 90),\n",
    "        (0.75, 1.25),\n",
    "        (0.1, 10.0),\n",
    "    ),\n",
    "    truth_color=\"C1\",\n",
    "    bins=100,\n",
    "    smooth=2,\n",
    "    smooth1d=2,\n",
    ")\n",
    "plt.show()"
   ]
  },
  {
   "cell_type": "markdown",
   "metadata": {},
   "source": [
    "We did pretty good! Time-variable light curves encode a lot of the information we need, provided we observe the star over *many* (i.e., hundreds!) evolution timescales."
   ]
  }
 ],
 "metadata": {
  "celltoolbar": "Tags",
  "kernelspec": {
   "display_name": "Python 3",
   "language": "python",
   "name": "python3"
  },
  "language_info": {
   "codemirror_mode": {
    "name": "ipython",
    "version": 3
   },
   "file_extension": ".py",
   "mimetype": "text/x-python",
   "name": "python",
   "nbconvert_exporter": "python",
   "pygments_lexer": "ipython3",
   "version": "3.8.3"
  }
 },
 "nbformat": 4,
 "nbformat_minor": 4
}
